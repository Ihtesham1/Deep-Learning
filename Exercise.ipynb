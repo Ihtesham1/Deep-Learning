{
 "cells": [
  {
   "cell_type": "code",
   "execution_count": 4,
   "metadata": {},
   "outputs": [],
   "source": [
    "import tensorflow as tf\n",
    "import numpy as np\n",
    "import pandas as pd\n",
    "from sklearn.model_selection import train_test_split"
   ]
  },
  {
   "cell_type": "code",
   "execution_count": 52,
   "metadata": {},
   "outputs": [
    {
     "data": {
      "text/plain": [
       "0    R\n",
       "1    R\n",
       "2    R\n",
       "3    R\n",
       "4    R\n",
       "Name: 60, dtype: object"
      ]
     },
     "execution_count": 52,
     "metadata": {},
     "output_type": "execute_result"
    }
   ],
   "source": [
    "data = pd.read_csv(\"sonar.csv\", header = None)\n",
    "y=data.iloc[:,60]\n",
    "x = data.iloc[:,:60]\n",
    "x.head()\n",
    "y.head()"
   ]
  },
  {
   "cell_type": "code",
   "execution_count": 56,
   "metadata": {},
   "outputs": [],
   "source": [
    "x_train, x_test, y_train, y_test = train_test_split(x, y, test_size=0.2, random_state=None)\n",
    "\n"
   ]
  },
  {
   "cell_type": "code",
   "execution_count": 57,
   "metadata": {},
   "outputs": [],
   "source": [
    "from tensorflow.keras.utils import to_categorical\n",
    "from sklearn import preprocessing as pp"
   ]
  },
  {
   "cell_type": "code",
   "execution_count": 58,
   "metadata": {},
   "outputs": [],
   "source": [
    "enc = pp.LabelEncoder()\n",
    "y_train=enc.fit_transform(y_train)\n",
    "y_test = enc.fit_transform(y_test)\n"
   ]
  },
  {
   "cell_type": "code",
   "execution_count": 108,
   "metadata": {},
   "outputs": [],
   "source": [
    "\n",
    "model = tf.keras.models.Sequential([\n",
    "    tf.keras.layers.Dense(16,activation=\"relu\", input_shape=(60,)),\n",
    "    tf.keras.layers.Dense(16,activation=\"relu\"),\n",
    "    #tf.keras.layers.Dense(45,activation=\"relu\"),\n",
    "    #tf.keras.layers.Dense(40,activation=\"relu\"),\n",
    "    tf.keras.layers.Dense(1,activation=\"sigmoid\")\n",
    "    \n",
    "    \n",
    "])"
   ]
  },
  {
   "cell_type": "code",
   "execution_count": 109,
   "metadata": {},
   "outputs": [],
   "source": [
    "model.compile(loss='binary_crossentropy', optimizer='rmsprop', metrics=['accuracy'])"
   ]
  },
  {
   "cell_type": "code",
   "execution_count": 112,
   "metadata": {},
   "outputs": [
    {
     "name": "stdout",
     "output_type": "stream",
     "text": [
      "Train on 166 samples, validate on 42 samples\n",
      "Epoch 1/10\n",
      "166/166 [==============================] - 0s 393us/sample - loss: 0.1742 - acc: 0.9337 - val_loss: 0.5158 - val_acc: 0.8095\n",
      "Epoch 2/10\n",
      "166/166 [==============================] - 0s 184us/sample - loss: 0.1753 - acc: 0.9337 - val_loss: 0.6494 - val_acc: 0.7381\n",
      "Epoch 3/10\n",
      "166/166 [==============================] - 0s 310us/sample - loss: 0.1654 - acc: 0.9518 - val_loss: 0.6473 - val_acc: 0.7381\n",
      "Epoch 4/10\n",
      "166/166 [==============================] - 0s 253us/sample - loss: 0.1633 - acc: 0.9458 - val_loss: 0.6931 - val_acc: 0.7619\n",
      "Epoch 5/10\n",
      "166/166 [==============================] - 0s 244us/sample - loss: 0.1719 - acc: 0.9398 - val_loss: 0.6010 - val_acc: 0.7619\n",
      "Epoch 6/10\n",
      "166/166 [==============================] - 0s 102us/sample - loss: 0.1662 - acc: 0.9458 - val_loss: 0.6330 - val_acc: 0.7381\n",
      "Epoch 7/10\n",
      "166/166 [==============================] - 0s 247us/sample - loss: 0.1674 - acc: 0.9398 - val_loss: 0.5433 - val_acc: 0.7619\n",
      "Epoch 8/10\n",
      "166/166 [==============================] - 0s 253us/sample - loss: 0.1642 - acc: 0.9578 - val_loss: 0.6337 - val_acc: 0.7381\n",
      "Epoch 9/10\n",
      "166/166 [==============================] - 0s 220us/sample - loss: 0.1684 - acc: 0.9398 - val_loss: 0.5783 - val_acc: 0.7381\n",
      "Epoch 10/10\n",
      "166/166 [==============================] - 0s 265us/sample - loss: 0.1695 - acc: 0.9578 - val_loss: 0.6394 - val_acc: 0.7381\n"
     ]
    }
   ],
   "source": [
    "history = model.fit(x_train,y_train,epochs=10,validation_data = (x_test,y_test))"
   ]
  },
  {
   "cell_type": "code",
   "execution_count": 91,
   "metadata": {},
   "outputs": [],
   "source": [
    "import matplotlib.pyplot as plt"
   ]
  },
  {
   "cell_type": "code",
   "execution_count": 119,
   "metadata": {},
   "outputs": [
    {
     "data": {
      "image/png": "[encoded data removed]",
      "text/plain": [
       "<Figure size 432x288 with 1 Axes>"
      ]
     },
     "metadata": {
      "needs_background": "light"
     },
     "output_type": "display_data"
    }
   ],
   "source": [
    "loss = history.history['acc'] \n",
    "val_loss = history.history['acc']\n",
    "epochs = range(1, len(loss) + 1)\n",
    "plt.plot(epochs, loss, 'bo', label='Training loss') \n",
    "plt.plot(epochs, val_loss, 'b', label='Validation loss') \n",
    "plt.title('Training and validation loss') \n",
    "plt.xlabel('Epochs') \n",
    "plt.ylabel('Loss') \n",
    "plt.legend()\n",
    "plt.show()\n"
   ]
  },
  {
   "cell_type": "code",
   "execution_count": null,
   "metadata": {},
   "outputs": [],
   "source": []
  }
 ],
 "metadata": {
  "kernelspec": {
   "display_name": "Python 3",
   "language": "python",
   "name": "python3"
  },
  "language_info": {
   "codemirror_mode": {
    "name": "ipython",
    "version": 3
   },
   "file_extension": ".py",
   "mimetype": "text/x-python",
   "name": "python",
   "nbconvert_exporter": "python",
   "pygments_lexer": "ipython3",
   "version": "3.7.3"
  }
 },
 "nbformat": 4,
 "nbformat_minor": 2
}
